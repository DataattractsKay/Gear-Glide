{
  "nbformat": 4,
  "nbformat_minor": 0,
  "metadata": {
    "colab": {
      "provenance": [],
      "authorship_tag": "ABX9TyPwrKklqSAY/XNlJk0/IQJZ",
      "include_colab_link": true
    },
    "kernelspec": {
      "name": "python3",
      "display_name": "Python 3"
    },
    "language_info": {
      "name": "python"
    }
  },
  "cells": [
    {
      "cell_type": "markdown",
      "metadata": {
        "id": "view-in-github",
        "colab_type": "text"
      },
      "source": [
        "<a href=\"https://colab.research.google.com/github/DataattractsKay/Gear-Glide/blob/main/Interview_Dictionary.ipynb\" target=\"_parent\"><img src=\"https://colab.research.google.com/assets/colab-badge.svg\" alt=\"Open In Colab\"/></a>"
      ]
    },
    {
      "cell_type": "markdown",
      "source": [
        "Which line of code will change the initial_dictionary to the final_dictionary?"
      ],
      "metadata": {
        "id": "ZO0tnx0LLcH_"
      }
    },
    {
      "cell_type": "code",
      "execution_count": 6,
      "metadata": {
        "colab": {
          "base_uri": "https://localhost:8080/"
        },
        "id": "w7ULqn5ELYKo",
        "outputId": "82a61a05-8948-4540-8ce5-8142d2cee549"
      },
      "outputs": [
        {
          "output_type": "stream",
          "name": "stdout",
          "text": [
            "{'one': 1, 'two': 2, 'three': 3}\n"
          ]
        }
      ],
      "source": [
        "initial_dictionary = {\n",
        "        \"one\": 1,\n",
        "        \"two\": 2,\n",
        "       }\n",
        "\n",
        "\n",
        "final_dictionary = {\n",
        "    \"one\": 1,\n",
        "    \"two\": 2,\n",
        "    \"three\": 3,\n",
        "     }\n",
        "#initial_dictionary = final_dictionary['three'] = 3\n",
        "#final_dictionary = initial_dictionary\n",
        "#print(final_dictionary)\n",
        "\n",
        "#final_dictionary = initial_dictionary += ('three' :  3)\n",
        "#print(final_dictionary)\n",
        "\n",
        "initial_dictionary = final_dictionary['three'] = 3\n",
        "print(final_dictionary)"
      ]
    },
    {
      "cell_type": "markdown",
      "source": [
        "Which line of code will produce an error?\n",
        "\n",
        "custom_dict = {\n",
        "        \"one\": 1,    \n",
        "        \"two\": 2,    \n",
        "        \"three\": 3,\n",
        "    }"
      ],
      "metadata": {
        "id": "VbB5kNPlM7tj"
      }
    },
    {
      "cell_type": "code",
      "source": [
        "custom_dict = {\n",
        "        \"one\": 1,\n",
        "        \"two\": 2,\n",
        "        \"three\": 3,\n",
        "    }\n",
        "\n",
        "custom_dict['three'] = [4,5,6]\n",
        "print(custom_dict)\n",
        "\n",
        "#for key in custom_dict:\n",
        "  #custom_dict[key] += 2\n",
        "  #print(custom_dict)\n",
        "\n",
        "print(custom_dict[2])"
      ],
      "metadata": {
        "colab": {
          "base_uri": "https://localhost:8080/",
          "height": 232
        },
        "id": "m3CHgGVjM-h9",
        "outputId": "98429ae2-a340-409a-b1d9-3ee126eafa8c"
      },
      "execution_count": 10,
      "outputs": [
        {
          "output_type": "stream",
          "name": "stdout",
          "text": [
            "{'one': 1, 'two': 2, 'three': [4, 5, 6]}\n"
          ]
        },
        {
          "output_type": "error",
          "ename": "KeyError",
          "evalue": "2",
          "traceback": [
            "\u001b[0;31m---------------------------------------------------------------------------\u001b[0m",
            "\u001b[0;31mKeyError\u001b[0m                                  Traceback (most recent call last)",
            "\u001b[0;32m<ipython-input-10-3147b76156b3>\u001b[0m in \u001b[0;36m<cell line: 14>\u001b[0;34m()\u001b[0m\n\u001b[1;32m     12\u001b[0m   \u001b[0;31m#print(custom_dict)\u001b[0m\u001b[0;34m\u001b[0m\u001b[0;34m\u001b[0m\u001b[0m\n\u001b[1;32m     13\u001b[0m \u001b[0;34m\u001b[0m\u001b[0m\n\u001b[0;32m---> 14\u001b[0;31m \u001b[0mprint\u001b[0m\u001b[0;34m(\u001b[0m\u001b[0mcustom_dict\u001b[0m\u001b[0;34m[\u001b[0m\u001b[0;36m2\u001b[0m\u001b[0;34m]\u001b[0m\u001b[0;34m)\u001b[0m\u001b[0;34m\u001b[0m\u001b[0;34m\u001b[0m\u001b[0m\n\u001b[0m",
            "\u001b[0;31mKeyError\u001b[0m: 2"
          ]
        }
      ]
    },
    {
      "cell_type": "markdown",
      "source": [
        "Which line of code will print \"Burger\"?\n",
        "\n",
        "order = {\n",
        "    \"starter\": {1: \"Salad\", 2: \"Soup\"},    \n",
        "    \"main\": {1: [\"Burger\", \"Fries\"], 2: [\"Steak\"]},    \n",
        "    \"dessert\": {1: [\"Ice Cream\"], 2: []},\n",
        "}"
      ],
      "metadata": {
        "id": "3PyIHn3YN2D6"
      }
    },
    {
      "cell_type": "code",
      "source": [
        "order = {\n",
        "    \"starter\": {1: \"Salad\", 2: \"Soup\"},\n",
        "    \"main\": {1: [\"Burger\", \"Fries\"], 2: [\"Steak\"]},\n",
        "    \"dessert\": {1: [\"Ice Cream\"], 2: []},\n",
        "}\n",
        "print(order[\"main\"][1][0])"
      ],
      "metadata": {
        "colab": {
          "base_uri": "https://localhost:8080/"
        },
        "id": "KlMizMvnN3_W",
        "outputId": "a8208147-1b69-4c5e-85db-bd8b92490cd6"
      },
      "execution_count": 12,
      "outputs": [
        {
          "output_type": "stream",
          "name": "stdout",
          "text": [
            "Burger\n"
          ]
        }
      ]
    },
    {
      "cell_type": "markdown",
      "source": [
        "**Count Word Frequency**\n",
        "\n",
        "Define a function to count the frequency of words in a given list of words.\n",
        "\n"
      ],
      "metadata": {
        "id": "8VroqZIZUIkG"
      }
    },
    {
      "cell_type": "markdown",
      "source": [
        "Time complexity:\n",
        "\n",
        "The time complexity of this exercise is O(n), where n is the number of words in the input list. The loop iterates through each word in the list once, and the dictionary operations (get and update) take constant time, O(1), on average.\n",
        "\n",
        "Space complexity:\n",
        "\n",
        "The space complexity of this exercise is also O(n), where n is the number of unique words in the input list. In the worst case, all words are unique, and the word_count dictionary will have n entries."
      ],
      "metadata": {
        "id": "zPBWx-k0baFN"
      }
    },
    {
      "cell_type": "code",
      "source": [
        "def frequency(words):\n",
        "  count = {}\n",
        "  for i in words:\n",
        "    count[i] = count.get(i, 0) + 1\n",
        "  return count\n",
        "words = ['apple', 'orange', 'banana', 'apple', 'orange', 'apple']\n",
        "print(frequency(words))"
      ],
      "metadata": {
        "colab": {
          "base_uri": "https://localhost:8080/"
        },
        "id": "IveYnFZaUKzo",
        "outputId": "0af8c38b-8751-4d2d-df53-5edb588264c3"
      },
      "execution_count": 14,
      "outputs": [
        {
          "output_type": "stream",
          "name": "stdout",
          "text": [
            "{'apple': 3, 'orange': 2, 'banana': 1}\n"
          ]
        }
      ]
    },
    {
      "cell_type": "markdown",
      "source": [
        "**Common Keys**\n",
        "\n",
        "Define a function with takes two dictionaries as parameters and merge them and sum the values of common keys.\n",
        "\n"
      ],
      "metadata": {
        "id": "0fTFHIR9YUZD"
      }
    },
    {
      "cell_type": "markdown",
      "source": [
        "Time complexity:\n",
        "\n",
        "The overall time complexity of this function is O(n + m), where n is the number of elements in dict1 and m is the number of elements in dict2. The copy() method takes O(n) time, and the loop iterates m times with O(1) operations inside the loop.\n",
        "\n",
        "Space complexity:\n",
        "\n",
        "The space complexity of this function is O(n + m) in the worst case, where all keys in dict1 and dict2 are distinct, and the merged dictionary has n + m elements. In the best case, where dict1 and dict2 have the same keys, the space complexity is O(n) (or O(m), whichever is larger), as the merged dictionary has the same number of elements as the input dictionaries."
      ],
      "metadata": {
        "id": "Jol3bTb2bYYn"
      }
    },
    {
      "cell_type": "code",
      "source": [
        "def CommonKeys(dict1, dict2):\n",
        "  result = dict1.copy()\n",
        "  for key, value in dict2.items():\n",
        "    result[key] = result.get(key, 0) + value\n",
        "  return result\n",
        "\n",
        "dict1 = {'a': 1, 'b': 2, 'c': 3}\n",
        "dict2 = {'b': 3, 'c': 4, 'd': 5}\n",
        "print(CommonKeys(dict1, dict2))"
      ],
      "metadata": {
        "colab": {
          "base_uri": "https://localhost:8080/"
        },
        "id": "za2ML7JTaICG",
        "outputId": "0041338a-523c-4f81-f163-c2800ca138d3"
      },
      "execution_count": 18,
      "outputs": [
        {
          "output_type": "stream",
          "name": "stdout",
          "text": [
            "{'a': 1, 'b': 5, 'c': 7, 'd': 5}\n"
          ]
        }
      ]
    },
    {
      "cell_type": "markdown",
      "source": [
        "**Key with the Highest Value**\n",
        "\n",
        "Define a function which takes a dictionary as a parameter and returns the key with the highest value in a dictionary."
      ],
      "metadata": {
        "id": "-bUr_P90cBuM"
      }
    },
    {
      "cell_type": "markdown",
      "source": [
        "Time complexity:\n",
        "\n",
        "The overall time complexity of this function is O(n), where n is the number of elements in the dictionary my_dict. This is determined by the max() function, which iterates through all the keys in the dictionary.\n",
        "\n",
        "Space complexity:\n",
        "\n",
        "The space complexity of this function is O(1), as it does not create any additional data structures or store any intermediate values. The max() function only keeps track of the current maximum value and its corresponding key, which requires constant space."
      ],
      "metadata": {
        "id": "ZDNrhsKIcp4g"
      }
    },
    {
      "cell_type": "code",
      "source": [
        "def HighestValue(dict):\n",
        "  return max(dict, key = dict.get)\n",
        "\n",
        "dict = {'a': 5, 'b': 9, 'c': 2}\n",
        "HighestValue(dict)"
      ],
      "metadata": {
        "colab": {
          "base_uri": "https://localhost:8080/",
          "height": 35
        },
        "id": "KDDr3B0EcEKd",
        "outputId": "3239f9e5-197a-4488-cdfd-c08b5960c299"
      },
      "execution_count": 22,
      "outputs": [
        {
          "output_type": "execute_result",
          "data": {
            "text/plain": [
              "'b'"
            ],
            "application/vnd.google.colaboratory.intrinsic+json": {
              "type": "string"
            }
          },
          "metadata": {},
          "execution_count": 22
        }
      ]
    },
    {
      "cell_type": "markdown",
      "source": [
        "**Reverse Key-Value Pairs**\n",
        "\n",
        "Define a function which takes as a parameter dictionary and returns a dictionary in which everse the key-value pairs are reversed."
      ],
      "metadata": {
        "id": "DLEQiE5Qcq7c"
      }
    },
    {
      "cell_type": "markdown",
      "source": [
        "Time complexity:\n",
        "\n",
        "The overall time complexity of this function is O(n), where n is the number of elements in the dictionary my_dict. This is determined by the dictionary comprehension, which iterates through all the key-value pairs in the input dictionary.\n",
        "\n",
        "Space complexity:\n",
        "\n",
        "The space complexity of this function is O(n), where n is the number of elements in the dictionary my_dict. This is because the function creates a new dictionary with the same number of elements as the input dictionary but with reversed key-value pairs.\n",
        "\n"
      ],
      "metadata": {
        "id": "BT6idYGWey2F"
      }
    },
    {
      "cell_type": "code",
      "source": [
        "# dict(newkey:newvalue for newkey,newvalue in dict.items())\n",
        "\n",
        "def reverse(dict):\n",
        "  return {v:k for k,v in dict.items()}\n",
        "\n",
        "dict = {'a': 1, 'b': 2, 'c': 3}\n",
        "print(reverse(dict))"
      ],
      "metadata": {
        "colab": {
          "base_uri": "https://localhost:8080/"
        },
        "id": "diTiYtWQc7E0",
        "outputId": "159416c6-b90f-47c9-aa04-74c3720ec465"
      },
      "execution_count": 23,
      "outputs": [
        {
          "output_type": "stream",
          "name": "stdout",
          "text": [
            "{1: 'a', 2: 'b', 3: 'c'}\n"
          ]
        }
      ]
    },
    {
      "cell_type": "markdown",
      "source": [
        "**Conditional Filter**\n",
        "\n",
        "Define a function that takes a dictionary as a parameter and returns a dictionary with elements based on a condition."
      ],
      "metadata": {
        "id": "pJMOtlN0ez7T"
      }
    },
    {
      "cell_type": "markdown",
      "source": [
        "Time complexity:\n",
        "\n",
        "The overall time complexity of this function is O(n), where n is the number of elements in the dictionary my_dict. This is determined by the dictionary comprehension, which iterates through all the key-value pairs in the input dictionary.\n",
        "\n",
        "Space complexity:\n",
        "\n",
        "The space complexity of this function depends on the number of elements in the filtered dictionary, which in turn depends on the condition function. In the worst case, when all key-value pairs meet the condition, the space complexity is O(n), where n is the number of elements in the dictionary my_dict. In the best case, when no key-value pairs meet the condition, the space complexity is O(1) as the function creates an empty dictionary."
      ],
      "metadata": {
        "id": "f4IZ42fHhjtg"
      }
    },
    {
      "cell_type": "code",
      "source": [
        "def conditional(dict, condition):\n",
        "  return {k:v for k,v in dict.items() if condition(k,v)}\n",
        "\n",
        "dict = {'a': 1, 'b': 2, 'c': 3, 'd': 4}\n",
        "conditional = conditional(dict, lambda k, v: v % 2 == 0)\n",
        "print(conditional)\n"
      ],
      "metadata": {
        "colab": {
          "base_uri": "https://localhost:8080/"
        },
        "id": "-AGWaspgfQJd",
        "outputId": "f70ffb7a-fd88-46d0-ba0f-e68a432caf3b"
      },
      "execution_count": 25,
      "outputs": [
        {
          "output_type": "stream",
          "name": "stdout",
          "text": [
            "{'b': 2, 'd': 4}\n"
          ]
        }
      ]
    },
    {
      "cell_type": "markdown",
      "source": [
        "**Same Frequency**\n",
        "\n",
        "Define a function which takes two lists as parameters and check if two given lists have the same frequency of elements."
      ],
      "metadata": {
        "id": "v4_GN_1Fg5Gl"
      }
    },
    {
      "cell_type": "markdown",
      "source": [
        "Time complexity:\n",
        "\n",
        "The overall time complexity of this function is O(n1 + n2 + min(m1, m2)), where n1 and n2 are the lengths of list1 and list2, and m1 and m2 are the numbers of distinct elements in list1 and list2, respectively. This is determined by the time complexity of the count_elements() function and the dictionary comparison.\n",
        "\n",
        "Space complexity:\n",
        "\n",
        "The space complexity of this function is O(m1 + m2), where m1 and m2 are the numbers of distinct elements in list1 and list2, respectively. This is because the function creates two dictionaries with as many keys as there are distinct elements in the input lists."
      ],
      "metadata": {
        "id": "n94JYbmqhe77"
      }
    },
    {
      "cell_type": "code",
      "source": [
        "def xyz(list1, list2):\n",
        "  def count(lst):\n",
        "    counter = {}\n",
        "    for i in lst:\n",
        "      counter[i] = counter.get(i, 0) + 1\n",
        "    return counter\n",
        "  return count(list1) == count(list2)\n",
        "\n",
        "list1 = [1, 2, 3, 2, 1]\n",
        "list2 = [3, 1, 2, 1, 3]\n",
        "xyz(list1,list2)"
      ],
      "metadata": {
        "colab": {
          "base_uri": "https://localhost:8080/"
        },
        "id": "tOmWSWnkg68n",
        "outputId": "90cda9ec-5a3f-4e65-80b6-0fff9a3e63dc"
      },
      "execution_count": 26,
      "outputs": [
        {
          "output_type": "execute_result",
          "data": {
            "text/plain": [
              "False"
            ]
          },
          "metadata": {},
          "execution_count": 26
        }
      ]
    }
  ]
}