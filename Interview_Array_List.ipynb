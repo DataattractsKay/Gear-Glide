{
  "nbformat": 4,
  "nbformat_minor": 0,
  "metadata": {
    "colab": {
      "provenance": [],
      "authorship_tag": "ABX9TyMJlIiDJFmbEWtZ6jkFmOOZ",
      "include_colab_link": true
    },
    "kernelspec": {
      "name": "python3",
      "display_name": "Python 3"
    },
    "language_info": {
      "name": "python"
    }
  },
  "cells": [
    {
      "cell_type": "markdown",
      "metadata": {
        "id": "view-in-github",
        "colab_type": "text"
      },
      "source": [
        "<a href=\"https://colab.research.google.com/github/DataattractsKay/Gear-Glide/blob/main/Interview_Array_List.ipynb\" target=\"_parent\"><img src=\"https://colab.research.google.com/assets/colab-badge.svg\" alt=\"Open In Colab\"/></a>"
      ]
    },
    {
      "cell_type": "markdown",
      "source": [
        "**Write a fuction to find the missing number in a given integer array of 1 to 100. The function takes to parameter the array and the number of elements that needs to be in array.  For example if we want to find missing number from 1 to 6 the second parameter will be 6.**"
      ],
      "metadata": {
        "id": "rxwyr9Enq4po"
      }
    },
    {
      "cell_type": "markdown",
      "source": [
        "You can use the arithmetic progression formula to find the sum of the numbers from 1 to n and then subtract the sum of the numbers in the array to get the missing number. Here's a function that does that:"
      ],
      "metadata": {
        "id": "NxLRDFBLrA54"
      }
    },
    {
      "cell_type": "code",
      "execution_count": null,
      "metadata": {
        "id": "kAlyG8bFquwu"
      },
      "outputs": [],
      "source": [
        "def missing_number(arr, n):\n",
        "    # Calculate the sum of first n natural numbers\n",
        "    total = n * (n + 1) // 2\n",
        "\n",
        "    # Calculate the sum of numbers in the array\n",
        "    sum_arr = sum(arr)\n",
        "\n",
        "    # Find the missing number by subtracting sum_arr from total\n",
        "    missing = total - sum_arr\n",
        "\n",
        "    return missing\n",
        "\n",
        "# Example\n",
        "print(missing_number([1, 2, 3, 4, 6], 6))  # Output: 5"
      ]
    },
    {
      "cell_type": "markdown",
      "source": [
        "This function calculates the sum of the first n natural numbers using the arithmetic progression formula and then subtracts the sum of the numbers in the array to find the missing number. The time complexity of this function is O(n) because it iterates through the array once to calculate the sum of its elements."
      ],
      "metadata": {
        "id": "iV7KXa1xrGTS"
      }
    },
    {
      "cell_type": "markdown",
      "source": [
        "**Write a program to find all pairs of integers whose sum is equal to a given number**"
      ],
      "metadata": {
        "id": "2KavuAV-rLCA"
      }
    },
    {
      "cell_type": "code",
      "source": [
        "def findpairs(nums, target):\n",
        "  for i in range(len(nums)):\n",
        "    for j in range(i+1, len(nums)):\n",
        "      if nums[i] == nums[j]:\n",
        "        continue\n",
        "      elif nums[i] + nums[j] == target:\n",
        "        print(i, j)\n",
        "\n",
        "List = [1,2,3,2,3,4,5,6]\n",
        "findpairs(List, 6)\n",
        "\n"
      ],
      "metadata": {
        "colab": {
          "base_uri": "https://localhost:8080/"
        },
        "id": "asMX4cT6r1De",
        "outputId": "7d440c24-5170-45b6-dab8-7c0f8879613d"
      },
      "execution_count": null,
      "outputs": [
        {
          "output_type": "stream",
          "name": "stdout",
          "text": [
            "0 6\n",
            "1 5\n",
            "3 5\n"
          ]
        }
      ]
    },
    {
      "cell_type": "markdown",
      "source": [
        "Another Way:\n",
        "\n",
        "**def two_sum(nums, target)**: Define a function called two_sum that takes a list of integers nums and an integer target as input.\n",
        "\n",
        "**seen = {}** Create an empty dictionary seen to store the numbers you have seen so far and their indices. Dictionary operations (adding and searching) have an average-case time complexity of O(1).\n",
        "\n",
        "**for i, num in enumerate(nums)**: Iterate through the input list nums using the enumerate function, which returns both the index i and the value num for each element in the list. The loop runs n times, where n is the length of the input list nums.\n",
        "\n",
        "**complement = target - num** Calculate the complement of the current number num with respect to the target.\n",
        "\n",
        "**if complement in seen**: Check if the complement is present in the seen dictionary. This operation has an average-case time complexity of O(1).\n",
        "\n",
        "return [seen[complement], i]  If the complement is found in the seen dictionary, return the index of the complement (seen[complement]) and the current index i.\n",
        "\n",
        "seen[num] = i  If the complement is not found, add the current number num and its index i to the seen dictionary. This operation has an average-case time complexity of O(1).\n",
        "\n",
        "The overall time complexity of this solution is O(n), where n is the number of elements in the input list. This is because we iterate through the list once, and the operations inside the loop (dictionary addition and searching) have an average-case time complexity of O(1)."
      ],
      "metadata": {
        "id": "66vZkq76ti3F"
      }
    },
    {
      "cell_type": "code",
      "source": [
        "def two_sum(nums, target):\n",
        "    seen = {}\n",
        "\n",
        "    for i, num in enumerate(nums):\n",
        "        complement = target - num\n",
        "\n",
        "        if complement in seen:\n",
        "            return [seen[complement], i]\n",
        "\n",
        "        seen[num] = i\n",
        "\n",
        "nums = [2, 7, 11, 15]\n",
        "target = 9\n",
        "indices = two_sum(nums, target)\n",
        "print(f\"Indices of the two numbers are: {indices}\")"
      ],
      "metadata": {
        "id": "5BtR2FbltlfC"
      },
      "execution_count": null,
      "outputs": []
    },
    {
      "cell_type": "markdown",
      "source": [
        "**Find a number in an array**"
      ],
      "metadata": {
        "id": "KHDKiuNevEC6"
      }
    },
    {
      "cell_type": "code",
      "source": [
        "import numpy as np\n",
        "\n",
        "List = [1,2,3,4,5,6,7,8,9,10]\n",
        "\n",
        "def find_number(array, number):\n",
        "  for i in range(len(array)):\n",
        "    if array[i] == number:\n",
        "      print(i)\n",
        "    else:\n",
        "      print(\"dosen't exists\")     #Why is it coming for all the elements?????????\n",
        "\n",
        "\n",
        "find_number(List, 2)"
      ],
      "metadata": {
        "colab": {
          "base_uri": "https://localhost:8080/"
        },
        "id": "bZ61-ut2vG9p",
        "outputId": "560e12ec-6faf-4665-c62d-6d5d84084d07"
      },
      "execution_count": null,
      "outputs": [
        {
          "output_type": "stream",
          "name": "stdout",
          "text": [
            "dosen't exists\n",
            "1\n",
            "dosen't exists\n",
            "dosen't exists\n",
            "dosen't exists\n",
            "dosen't exists\n",
            "dosen't exists\n",
            "dosen't exists\n",
            "dosen't exists\n",
            "dosen't exists\n"
          ]
        }
      ]
    },
    {
      "cell_type": "markdown",
      "source": [
        "**Max Product of Two Integers**\n"
      ],
      "metadata": {
        "id": "4K52g6EZyMsm"
      }
    },
    {
      "cell_type": "code",
      "source": [
        "def maxproduct(arr):\n",
        "  max1, max2 = 0, 0\n",
        "  for num in arr:\n",
        "    if num > max1:\n",
        "      max2 = max1\n",
        "      max1 = num\n",
        "    elif num > max2:\n",
        "      max2 = num\n",
        "\n",
        "  return max1 * max2\n",
        "\n",
        "arr = [1, 7, 3, 4, 9, 5]\n",
        "print(maxproduct(arr))\n",
        "\n"
      ],
      "metadata": {
        "colab": {
          "base_uri": "https://localhost:8080/"
        },
        "id": "sncfJ3clyQiL",
        "outputId": "f0eb3865-7af6-4605-9fa4-4dea7a40f19c"
      },
      "execution_count": null,
      "outputs": [
        {
          "output_type": "stream",
          "name": "stdout",
          "text": [
            "63\n"
          ]
        }
      ]
    },
    {
      "cell_type": "markdown",
      "source": [
        "**Middle Function**\n",
        "\n",
        "**Write a function called middle that takes a list and returns a new list that contains all but the first and last elements.**"
      ],
      "metadata": {
        "id": "Z60yEgpqLNSK"
      }
    },
    {
      "cell_type": "code",
      "source": [
        "def middle(lst):\n",
        "    return lst[1:-1]\n",
        "\n",
        "list = [1,2,3,4]\n",
        "print(middle(list))"
      ],
      "metadata": {
        "colab": {
          "base_uri": "https://localhost:8080/"
        },
        "id": "PP0s_tz_LexI",
        "outputId": "7d2b2ee6-bc9b-4a16-fa46-74f5d0a37438"
      },
      "execution_count": 1,
      "outputs": [
        {
          "output_type": "stream",
          "name": "stdout",
          "text": [
            "[2, 3]\n"
          ]
        }
      ]
    },
    {
      "cell_type": "code",
      "source": [
        "def middle(lst):\n",
        "    # Return a new list containing all elements from the original list, excluding the first and last elements\n",
        "    return lst[1:-1]\n",
        "\n",
        "myList = [1, 2, 3, 4]\n",
        "\n",
        "print(middle(myList))  # Output: [2, 3]"
      ],
      "metadata": {
        "id": "w4rric15Lj4t"
      },
      "execution_count": null,
      "outputs": []
    },
    {
      "cell_type": "markdown",
      "source": [
        "**2D Lists**\n",
        "\n",
        "**Given 2D list calculate the sum of diagonal elements.**\n"
      ],
      "metadata": {
        "id": "sZTqtJHYLp7L"
      }
    },
    {
      "cell_type": "markdown",
      "source": [
        "Time complexity:\n",
        "\n",
        "O(n), where n is the number of rows (or columns) in the matrix. The function iterates through the rows once.\n",
        "\n",
        "Space complexity:\n",
        "\n",
        "O(1), as the function only uses a single variable to store the sum (total)."
      ],
      "metadata": {
        "id": "PLQKsDbLNyeF"
      }
    },
    {
      "cell_type": "code",
      "source": [
        "def diagonal(matrix):\n",
        "  total = 0\n",
        "  for i in range(len(matrix)):\n",
        "    total += matrix[i][i]\n",
        "  return total\n",
        "\n",
        "matrix =  [[1,2,3],[3,4,5],[6,7,8]]\n",
        "print(diagonal(matrix))"
      ],
      "metadata": {
        "colab": {
          "base_uri": "https://localhost:8080/"
        },
        "id": "J2OBu_2FNEx_",
        "outputId": "8d1290be-c4ce-4656-b58c-4d8b62ea2046"
      },
      "execution_count": 2,
      "outputs": [
        {
          "output_type": "stream",
          "name": "stdout",
          "text": [
            "13\n"
          ]
        }
      ]
    },
    {
      "cell_type": "markdown",
      "source": [
        "**Best Score**\n",
        "\n",
        "\n",
        "Given a list, write a function to get first, second best scores from the list.\n",
        "\n",
        "List may contain duplicates."
      ],
      "metadata": {
        "id": "UDIyqZ9qRP3y"
      }
    },
    {
      "cell_type": "markdown",
      "source": [
        "Time complexity:\n",
        "\n",
        "The function iterates through the list my_list once, with each iteration taking constant time O(1) to perform comparisons and updates. Since there are n elements in the list, the overall time complexity of the function is O(n).\n",
        "\n",
        "Space complexity:\n",
        "\n",
        "The function uses a constant amount of additional space to store the variables max1 and max2. There are no other data structures or variables created that depend on the size of the input list. Therefore, the space complexity is O(1), as it remains constant regardless of the input size."
      ],
      "metadata": {
        "id": "s_OoOLOSSwaT"
      }
    },
    {
      "cell_type": "code",
      "source": [
        "def best_score(list):\n",
        "  max1, max2 = float('-inf'), float('-inf')\n",
        "  for i in list:\n",
        "    if i > max1:\n",
        "      max2 = max1\n",
        "      max1 = i\n",
        "    elif i > max2 and i != max1:\n",
        "      max2 = i\n",
        "\n",
        "  return max1, max2\n",
        "\n",
        "list = [84, 85, 86, 87, 85, 90, 85, 83, 23, 45, 84, 1, 2, 0]\n",
        "print(best_score(list))"
      ],
      "metadata": {
        "colab": {
          "base_uri": "https://localhost:8080/"
        },
        "id": "gzDT4Q82RR7D",
        "outputId": "334ccd93-84e7-4e24-afa4-2ce3d6d2cb69"
      },
      "execution_count": 8,
      "outputs": [
        {
          "output_type": "stream",
          "name": "stdout",
          "text": [
            "(90, 87)\n"
          ]
        }
      ]
    },
    {
      "cell_type": "markdown",
      "source": [
        "**Duplicate Number**\n",
        "\n",
        "Write a function to remove the duplicate numbers on given integer array/list."
      ],
      "metadata": {
        "id": "ZUhI7o9iUECW"
      }
    },
    {
      "cell_type": "markdown",
      "source": [
        "Overall time complexity: O(n)\n",
        "\n",
        "The loop iterates through the entire list once, and the set operations (lookup, add) inside the loop have an average time complexity of O(1). Therefore, the overall time complexity is O(n).\n",
        "\n",
        "Space complexity:\n",
        "\n",
        "O(n), as we're using additional data structures (list and set) to store unique elements."
      ],
      "metadata": {
        "id": "SiD-y9VuVP4Q"
      }
    },
    {
      "cell_type": "code",
      "source": [
        "def duplicate(list):\n",
        "  unique = []\n",
        "  seen = set()\n",
        "  for i in list:\n",
        "    if i not in seen:\n",
        "      unique.append(i)\n",
        "      seen.add(i)\n",
        "  return unique\n",
        "\n",
        "list = [1,2,2,3,4,8,5,6,2,8]\n",
        "print(duplicate(list))"
      ],
      "metadata": {
        "colab": {
          "base_uri": "https://localhost:8080/"
        },
        "id": "N3NdREDjUGuq",
        "outputId": "e6beafbd-b418-41e8-acdb-3ee3eac8bc1a"
      },
      "execution_count": 11,
      "outputs": [
        {
          "output_type": "stream",
          "name": "stdout",
          "text": [
            "[1, 2, 3, 4, 8, 5, 6]\n"
          ]
        }
      ]
    },
    {
      "cell_type": "markdown",
      "source": [
        "**Pairs**\n",
        "\n",
        "Write a function to find all pairs of an integer array whose sum is equal to a given number. Do not consider commutative pairs.\n",
        "\n",
        "Note:\n",
        "\n",
        "4+3 comes from second and third elements from the main list.\n",
        "\n",
        "3+4 comes from third and seventh elements from the main list."
      ],
      "metadata": {
        "id": "NQWJ7dCIVRZ6"
      }
    },
    {
      "cell_type": "markdown",
      "source": [
        "Time and Space Complexity:\n",
        "\n",
        "The time complexity of the pair_sum function is O(n^2), where n is the length of the input array arr. This is because the function uses nested loops, and for each element in the array, it checks every other element in the array for possible pairs.\n",
        "\n",
        "The space complexity of the pair_sum function is O(n), where n is the length of the input array arr. The additional space used in this function is the result list, which stores the pairs that add up to the target sum. In the worst case, the number of pairs that sum up to the target value is proportional to the size of the input array."
      ],
      "metadata": {
        "id": "KdDL_vxmZU1f"
      }
    },
    {
      "cell_type": "code",
      "source": [
        "def pair(arr, sum):\n",
        "  result = []\n",
        "  for i in range(len(arr)):\n",
        "    for j in range(i+1, len(arr)):\n",
        "      if arr[i] + arr[j] == sum:\n",
        "        result.append(f\"{arr[i]} + {arr[j]}\")\n",
        "  return result\n",
        "\n",
        "arr = [2, 4, 3, 5, 6, -2, 4, 7, 8, 9]\n",
        "sum = 7\n",
        "print(pair(arr, sum))"
      ],
      "metadata": {
        "colab": {
          "base_uri": "https://localhost:8080/"
        },
        "id": "WQ9HlyeoYhej",
        "outputId": "2906346a-5fd5-4a1d-cd84-9a0522e2a6aa"
      },
      "execution_count": 18,
      "outputs": [
        {
          "output_type": "stream",
          "name": "stdout",
          "text": [
            "['2 + 5', '4 + 3', '3 + 4', '-2 + 9']\n"
          ]
        }
      ]
    },
    {
      "cell_type": "markdown",
      "source": [
        "**Contains Duplicate**\n",
        "\n",
        "Given an integer array nums, return true if any value appears at least twice in the array, and return false if every element is distinct.\n",
        "\n",
        "Hint: Use sets\n",
        "\n"
      ],
      "metadata": {
        "id": "BOPjZ4RXaa0e"
      }
    },
    {
      "cell_type": "markdown",
      "source": [
        "Since the loop runs n times and all operations inside the loop are constant time, the overall time complexity of the contains_duplicate function is O(n), where n is the length of the input array nums.\n",
        "\n",
        "Space Complexity:\n",
        "\n",
        "O(n), where n is the length of the input array nums, as in the worst case, the set seen may store all unique elements of the array."
      ],
      "metadata": {
        "id": "2sFIa-v9bMrx"
      }
    },
    {
      "cell_type": "code",
      "source": [
        "def duplicate(nums):\n",
        "  seen = set()\n",
        "  for i in nums:\n",
        "    if i in seen:\n",
        "      return True\n",
        "    seen.add(i)\n",
        "  return False\n",
        "\n",
        "nums = [1,2,3,1]\n",
        "print(duplicate(nums))\n"
      ],
      "metadata": {
        "colab": {
          "base_uri": "https://localhost:8080/"
        },
        "id": "4iVbiFFGagOi",
        "outputId": "c44bbcdb-2303-499a-e54f-0ced81030f20"
      },
      "execution_count": 19,
      "outputs": [
        {
          "output_type": "stream",
          "name": "stdout",
          "text": [
            "True\n"
          ]
        }
      ]
    },
    {
      "cell_type": "markdown",
      "source": [
        "**Permutation**\n",
        "\n",
        "If two list are permutations ?"
      ],
      "metadata": {
        "id": "ceHPGg-aqcnr"
      }
    },
    {
      "cell_type": "code",
      "source": [
        "def permutation(list1, list2):\n",
        "  if len(list1) != len(list2):\n",
        "    return False\n",
        "  list1.sort()\n",
        "  list2.sort()\n",
        "  if list1 == list2:\n",
        "    return True\n",
        "  else:\n",
        "    return False\n",
        "\n",
        "list1 = [1,2,3]\n",
        "list2 = [3,1,2]\n",
        "print(permutation(list1, list2))\n",
        "\n",
        "list1 = ['a','b','c']\n",
        "list2 = ['d','b','a']\n",
        "print(permutation(list1, list2))\n"
      ],
      "metadata": {
        "colab": {
          "base_uri": "https://localhost:8080/"
        },
        "id": "eTbpayYAqkeB",
        "outputId": "f9cae54f-588a-4dce-dbd4-d4ceda4e3dd6"
      },
      "execution_count": 23,
      "outputs": [
        {
          "output_type": "stream",
          "name": "stdout",
          "text": [
            "True\n",
            "False\n"
          ]
        }
      ]
    },
    {
      "cell_type": "markdown",
      "source": [
        "**Rotate Matrix**\n",
        "\n",
        "You are given an n x n 2D matrix representing an image, rotate the image by 90 degrees (clockwise).\n",
        "\n",
        "You have to rotate the image in-place, which means you have to modify the input 2D matrix directly.\n",
        "\n",
        "DO NOT allocate another 2D matrix and do the rotation."
      ],
      "metadata": {
        "id": "9arItvMbumWV"
      }
    },
    {
      "cell_type": "code",
      "source": [
        "def rotate(matrix):\n",
        "  n = len(matrix)\n",
        "  for i in range(n):\n",
        "    for j in range(i, n):\n",
        "      matrix[i][j], matrix[j][i] = matrix[j][i], matrix[i][j]\n",
        "\n",
        "  for row in matrix:\n",
        "    row.reverse()\n",
        "\n",
        "matrix = [[1,2,3],[4,5,6],[7,8,9]]\n",
        "rotate(matrix)\n",
        "print(matrix)"
      ],
      "metadata": {
        "colab": {
          "base_uri": "https://localhost:8080/"
        },
        "id": "HUJhirGQuthA",
        "outputId": "451b5298-175e-498a-8960-a6c376b06ac9"
      },
      "execution_count": 39,
      "outputs": [
        {
          "output_type": "stream",
          "name": "stdout",
          "text": [
            "[[7, 4, 1], [8, 5, 2], [9, 6, 3]]\n"
          ]
        }
      ]
    },
    {
      "cell_type": "markdown",
      "source": [
        "**Sum & Product**"
      ],
      "metadata": {
        "id": "11m7FfZozH6D"
      }
    },
    {
      "cell_type": "markdown",
      "source": [
        "**What is runtime of the below code?**\n",
        "\n",
        "Answer = **O(N)**"
      ],
      "metadata": {
        "id": "sdA0H-5qwp0Z"
      }
    },
    {
      "cell_type": "code",
      "source": [
        "def fo(array): #O(1)\n",
        "  sum = 0     #O(1)\n",
        "  product = 1 #O(1)\n",
        "  for i in array:  #O(N)\n",
        "    sum += i  #O(1)\n",
        "  for i in array: #O(N)\n",
        "    product *= i #O(1)\n",
        "\n",
        "  print(\"sum =\"+str(sum), \"product =\"+str(product)). #O(1)"
      ],
      "metadata": {
        "id": "xWDeVP3gwtSk"
      },
      "execution_count": 40,
      "outputs": []
    },
    {
      "cell_type": "markdown",
      "source": [
        "**Print pairs**"
      ],
      "metadata": {
        "id": "Bt1GZ0VBzLda"
      }
    },
    {
      "cell_type": "markdown",
      "source": [
        "**What is runtime of the below code?**\n",
        "\n",
        "Answer = **O(N^2)** - Quadratic"
      ],
      "metadata": {
        "id": "_ycIN5ZszQ2j"
      }
    },
    {
      "cell_type": "code",
      "source": [
        "def printpairs(array): #O(1)\n",
        "  for i in array:      #O(N)\n",
        "    for j in array:    #O(N)\n",
        "      print(str(i)+\",\"+str(j)) #O(1)"
      ],
      "metadata": {
        "id": "uY0WpZvFzTlA"
      },
      "execution_count": null,
      "outputs": []
    },
    {
      "cell_type": "markdown",
      "source": [
        "**Print Undordered pairs**"
      ],
      "metadata": {
        "id": "hmnNLjmvz6jN"
      }
    },
    {
      "cell_type": "markdown",
      "source": [
        "**What is runtime of the below code?**\n",
        "\n",
        "Solution:\n",
        "\n",
        "for 1st loop: n-1\n",
        "\n",
        "for second loop: n-2.......2,1\n",
        "\n",
        "(n-1)+(n-2)+(n-3)+(n-4)+(n-5)...........2+1\n",
        "\n",
        "= [n(n-1)]/2\n",
        "\n",
        "= n^2/2 + n/2\n",
        "\n",
        "Remove constants:\n",
        "\n",
        "n^2 + n\n",
        "\n",
        "So the final answer is **N^2** as we can omit n(less impact)\n",
        "\n",
        "Answer = **O(N^2)** - Quadratic\n"
      ],
      "metadata": {
        "id": "aSBCo4be0AYu"
      }
    },
    {
      "cell_type": "code",
      "source": [
        "def unorderedpairs(array):\n",
        "  for i in range(0, len(array)):\n",
        "    for j in range(i+1, len(array)):\n",
        "      print(array[i]+\",\"+array[j])"
      ],
      "metadata": {
        "id": "R5DEOHb9z9gG"
      },
      "execution_count": null,
      "outputs": []
    },
    {
      "cell_type": "markdown",
      "source": [
        "**Print Undordered pairs - Arrays**"
      ],
      "metadata": {
        "id": "0mx60Do_1kr-"
      }
    },
    {
      "cell_type": "markdown",
      "source": [
        "**What is runtime of the below code?**\n",
        "\n",
        "Answer = **O(MN)**\n",
        "\n",
        "If number of elements are samw than it will be **O(N^2)** or Quadratic\n"
      ],
      "metadata": {
        "id": "wzSdbhp71soV"
      }
    },
    {
      "cell_type": "code",
      "source": [
        "def printunordered(array1, array2):\n",
        "  for i in range(len(array1)):\n",
        "    for j in range(len(array2)):\n",
        "      if array1[i] < array2[j]:\n",
        "        print(str(array1[i])+\",\"+str(array2[j]))"
      ],
      "metadata": {
        "id": "tQIFS23c1uaI"
      },
      "execution_count": null,
      "outputs": []
    },
    {
      "cell_type": "markdown",
      "source": [
        "**Print Undordered pairs - Arrays - 100000 Units**"
      ],
      "metadata": {
        "id": "H1JHWFyD2swu"
      }
    },
    {
      "cell_type": "markdown",
      "source": [
        "**What is runtime of the below code?**\n",
        "\n",
        "Answer = **O(MN)**"
      ],
      "metadata": {
        "id": "6YDZwEM427wp"
      }
    },
    {
      "cell_type": "code",
      "source": [
        "def printunordered(array1, array2):\n",
        "  for i in range(len(array1)):  #O(M)\n",
        "    for j in range(len(array2)): #O(N)\n",
        "      for k in range(0,100000):  #Suprisingly this is CONSTANT O(1)\n",
        "        print(str(array1[i])+\",\"+str(array2[j])) #O(1)"
      ],
      "metadata": {
        "id": "DomvVWcq26Qx"
      },
      "execution_count": null,
      "outputs": []
    },
    {
      "cell_type": "markdown",
      "source": [
        "**Reverse**"
      ],
      "metadata": {
        "id": "MNYbbe7_3pNx"
      }
    },
    {
      "cell_type": "markdown",
      "source": [
        "**What is runtime of the below code?**\n",
        "\n",
        "Answer = **O(N)**"
      ],
      "metadata": {
        "id": "4R-C0IBR3q-i"
      }
    },
    {
      "cell_type": "code",
      "source": [
        "def reverse(array):\n",
        "  for i in range(0, int(len(array/2))): #O(N/2) = O(N)\n",
        "    other = len(array/2)-i-1            #O(1)\n",
        "    temp = other[i]                     #O(1)\n",
        "    array[i] = array[other]             #O(1)\n",
        "    array[other] = temp                 #O(1)\n",
        "  print(array)                          #O(1)\n"
      ],
      "metadata": {
        "id": "lHh2w9Os3ozN"
      },
      "execution_count": null,
      "outputs": []
    },
    {
      "cell_type": "markdown",
      "source": [
        "O(logN)/O(1) -> O(N) -> O(NlogN) -> O(N^2) -> O(2^N) -> O(N!)"
      ],
      "metadata": {
        "id": "Ay21gowO66M0"
      }
    }
  ]
}