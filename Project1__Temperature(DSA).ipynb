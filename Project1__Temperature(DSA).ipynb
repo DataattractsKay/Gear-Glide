{
  "nbformat": 4,
  "nbformat_minor": 0,
  "metadata": {
    "colab": {
      "provenance": [],
      "authorship_tag": "ABX9TyPxeoru2fffqWMfEvw+I+q5",
      "include_colab_link": true
    },
    "kernelspec": {
      "name": "python3",
      "display_name": "Python 3"
    },
    "language_info": {
      "name": "python"
    }
  },
  "cells": [
    {
      "cell_type": "markdown",
      "metadata": {
        "id": "view-in-github",
        "colab_type": "text"
      },
      "source": [
        "<a href=\"https://colab.research.google.com/github/DataattractsKay/Gear-Glide/blob/main/Project1__Temperature(DSA).ipynb\" target=\"_parent\"><img src=\"https://colab.research.google.com/assets/colab-badge.svg\" alt=\"Open In Colab\"/></a>"
      ]
    },
    {
      "cell_type": "markdown",
      "source": [
        "Calculate Average Temperature"
      ],
      "metadata": {
        "id": "rlYKtABzi0GE"
      }
    },
    {
      "cell_type": "code",
      "execution_count": null,
      "metadata": {
        "colab": {
          "base_uri": "https://localhost:8080/"
        },
        "id": "G4hQviBXit08",
        "outputId": "ec03e830-0e20-431c-a9fc-93335f633406"
      },
      "outputs": [
        {
          "output_type": "stream",
          "name": "stdout",
          "text": [
            "how many day's temperature? 4\n",
            "Day 1's high temperature: 25\n",
            "Day 2's high temperature: 67\n",
            "Day 3's high temperature: 89\n",
            "Day 4's high temperature: 40\n",
            "\n",
            "Average = 55.25\n"
          ]
        }
      ],
      "source": [
        "numDays = int(input(\"how many day's temperature? \"))\n",
        "total = 0\n",
        "for i in range(1,numDays+1):\n",
        "  Nextday = int(input(\"Day \" + str(i) + \"'s high temperature: \"))\n",
        "  total += Nextday\n",
        "\n",
        "avg = round(total/numDays,2)\n",
        "print(\"\\nAverage = \" + str(avg))\n"
      ]
    },
    {
      "cell_type": "markdown",
      "source": [
        "How many days are above average temperature?"
      ],
      "metadata": {
        "id": "XtAUKQR3lEz0"
      }
    },
    {
      "cell_type": "code",
      "source": [
        "numDays = int(input(\"how many day's temperature? \"))\n",
        "total = 0\n",
        "temp =[]\n",
        "for i in range(numDays):\n",
        "  Nextday = int(input(\"Day \" + str(i+1) + \"'s high temperature: \"))\n",
        "  temp.append(Nextday)\n",
        "  total += temp[i]\n",
        "\n",
        "avg = round(total/numDays,2)\n",
        "print(\"\\nAverage = \" + str(avg))\n",
        "\n",
        "above = 0\n",
        "for i in temp:\n",
        "  if i > avg:\n",
        "    above += 1\n",
        "\n",
        "print(str(above) + \"day'(s) above average\")"
      ],
      "metadata": {
        "colab": {
          "base_uri": "https://localhost:8080/"
        },
        "id": "qysCDdq6lPQ6",
        "outputId": "339d006f-17b0-48b4-eac8-a98c29132d7b"
      },
      "execution_count": null,
      "outputs": [
        {
          "output_type": "stream",
          "name": "stdout",
          "text": [
            "how many day's temperature? 4\n",
            "Day 1's high temperature: 50\n",
            "Day 2's high temperature: 60\n",
            "Day 3's high temperature: 90\n",
            "Day 4's high temperature: 100\n",
            "\n",
            "Average = 75.0\n",
            "2day'(s) above average\n"
          ]
        }
      ]
    }
  ]
}